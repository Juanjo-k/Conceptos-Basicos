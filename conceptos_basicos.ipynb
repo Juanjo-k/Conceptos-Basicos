{
  "nbformat": 4,
  "nbformat_minor": 0,
  "metadata": {
    "colab": {
      "provenance": [],
      "authorship_tag": "ABX9TyM/+98gzA2WqXSphZYgD93y",
      "include_colab_link": true
    },
    "kernelspec": {
      "name": "python3",
      "display_name": "Python 3"
    },
    "language_info": {
      "name": "python"
    }
  },
  "cells": [
    {
      "cell_type": "markdown",
      "metadata": {
        "id": "view-in-github",
        "colab_type": "text"
      },
      "source": [
        "<a href=\"https://colab.research.google.com/github/Juanjo-k/Conceptos-Basicos/blob/main/conceptos_basicos.ipynb\" target=\"_parent\"><img src=\"https://colab.research.google.com/assets/colab-badge.svg\" alt=\"Open In Colab\"/></a>"
      ]
    },
    {
      "cell_type": "markdown",
      "source": [
        "**CONCEPTOS** **BASICOS**   **JUAN JOSE BOHORQUEZ CASTILLO**\n"
      ],
      "metadata": {
        "id": "v69hJxXpsUAp"
      }
    },
    {
      "cell_type": "markdown",
      "source": [
        "**Tipos de Variable**"
      ],
      "metadata": {
        "id": "6I3vJm97t4lN"
      }
    },
    {
      "cell_type": "code",
      "source": [
        "x = 1  # entero\n",
        "y =2.5 # float\n",
        "nombre = \"Juan\" # string\n",
        "apellido = \"Perez\" # string\n",
        "\n",
        "print(type(x))\n",
        "print(type(y))\n",
        "print(type(nombre))"
      ],
      "metadata": {
        "colab": {
          "base_uri": "https://localhost:8080/"
        },
        "id": "8ENAG9aftywl",
        "outputId": "6ecf9f91-e217-4a82-b3c4-d53c7e6ee03d"
      },
      "execution_count": null,
      "outputs": [
        {
          "output_type": "stream",
          "name": "stdout",
          "text": [
            "<class 'int'>\n",
            "<class 'float'>\n",
            "<class 'str'>\n"
          ]
        }
      ]
    },
    {
      "cell_type": "code",
      "source": [
        "resultados= x ** y\n",
        "print(resultados)"
      ],
      "metadata": {
        "colab": {
          "base_uri": "https://localhost:8080/"
        },
        "id": "ZwxU9q2Ov8NG",
        "outputId": "6e77383b-c297-4673-c898-1fd04b78fb13"
      },
      "execution_count": null,
      "outputs": [
        {
          "output_type": "stream",
          "name": "stdout",
          "text": [
            "1.0\n"
          ]
        }
      ]
    },
    {
      "cell_type": "code",
      "source": [
        "nombre_completo = nombre + apellido\n",
        "print(nombre_completo)"
      ],
      "metadata": {
        "colab": {
          "base_uri": "https://localhost:8080/"
        },
        "id": "Sah9YMHvwWE4",
        "outputId": "f6dbff9a-13c3-458b-99ff-1b03c9ffc8d0"
      },
      "execution_count": null,
      "outputs": [
        {
          "output_type": "stream",
          "name": "stdout",
          "text": [
            "JuanPerez\n"
          ]
        }
      ]
    },
    {
      "cell_type": "code",
      "source": [
        "resultados= x + y\n",
        "\n",
        "print(\"el resultado de la suma de X y Y es:\",resultados)"
      ],
      "metadata": {
        "colab": {
          "base_uri": "https://localhost:8080/"
        },
        "id": "L3cE3v12xXuD",
        "outputId": "163ed186-1df2-487f-846e-059a8f70a1c7"
      },
      "execution_count": null,
      "outputs": [
        {
          "output_type": "stream",
          "name": "stdout",
          "text": [
            "el resultado de la suma de X y Y es: 3.5\n"
          ]
        }
      ]
    },
    {
      "cell_type": "code",
      "source": [
        "# input\n",
        "\n",
        "nombre = input(\"ingrese su nombre: \")\n",
        "print(\"hola\",nombre)"
      ],
      "metadata": {
        "colab": {
          "base_uri": "https://localhost:8080/"
        },
        "id": "-O6n0z0OdJZm",
        "outputId": "279748bd-43f2-4e91-d690-8ae9afbaef04"
      },
      "execution_count": null,
      "outputs": [
        {
          "output_type": "stream",
          "name": "stdout",
          "text": [
            "ingrese su nombre: Juan\n",
            "hola Juan\n"
          ]
        }
      ]
    },
    {
      "cell_type": "code",
      "source": [
        "#  round\n",
        "x = 3.14159\n",
        "print(round(x,2))\n",
        "\n"
      ],
      "metadata": {
        "colab": {
          "base_uri": "https://localhost:8080/"
        },
        "id": "i37z0pItd4ZV",
        "outputId": "1160280e-4692-47d7-d4f4-bc3a5a38355b"
      },
      "execution_count": null,
      "outputs": [
        {
          "output_type": "stream",
          "name": "stdout",
          "text": [
            "3.14\n"
          ]
        }
      ]
    },
    {
      "cell_type": "markdown",
      "source": [
        "Crear un programa donde se solicita Ingresar su nombre y su edad, que automaticamente imprima un mensaje saludandolo y mencionando cuantos años tendra en 5 años mas."
      ],
      "metadata": {
        "id": "-Tux2j-IfPsN"
      }
    },
    {
      "cell_type": "markdown",
      "source": [
        "**LISTA**"
      ],
      "metadata": {
        "id": "Lgo_d7wkqe0Q"
      }
    },
    {
      "cell_type": "code",
      "source": [
        "# crear una lista\n",
        "mi_lista = [1,2,3,4,5]\n",
        "print(mi_lista)"
      ],
      "metadata": {
        "colab": {
          "base_uri": "https://localhost:8080/"
        },
        "id": "Nka-YlUZk6jJ",
        "outputId": "71c43a7b-252f-4741-c527-94bc5cad63d1"
      },
      "execution_count": null,
      "outputs": [
        {
          "output_type": "stream",
          "name": "stdout",
          "text": [
            "[1, 2, 3, 4, 5]\n"
          ]
        }
      ]
    },
    {
      "cell_type": "code",
      "source": [
        "print(mi_lista[4])"
      ],
      "metadata": {
        "colab": {
          "base_uri": "https://localhost:8080/"
        },
        "id": "QF-ce5N_lClu",
        "outputId": "9b09b15e-f93a-465a-f83e-5bd3e458bdae"
      },
      "execution_count": null,
      "outputs": [
        {
          "output_type": "stream",
          "name": "stdout",
          "text": [
            "5\n"
          ]
        }
      ]
    },
    {
      "cell_type": "code",
      "source": [
        "print(len(mi_lista))"
      ],
      "metadata": {
        "colab": {
          "base_uri": "https://localhost:8080/"
        },
        "id": "p_KIjD64lTCn",
        "outputId": "ea23829c-53e6-4825-8106-895bedce8318"
      },
      "execution_count": null,
      "outputs": [
        {
          "output_type": "stream",
          "name": "stdout",
          "text": [
            "5\n"
          ]
        }
      ]
    },
    {
      "cell_type": "code",
      "source": [
        "mi_lista.append(9)\n",
        "print(mi_lista)"
      ],
      "metadata": {
        "colab": {
          "base_uri": "https://localhost:8080/"
        },
        "id": "Q-amhtPMlil6",
        "outputId": "380fa9fc-49a3-45aa-a38a-7fe88c66886b"
      },
      "execution_count": null,
      "outputs": [
        {
          "output_type": "stream",
          "name": "stdout",
          "text": [
            "[1, 2, 3, 4, 5, 9]\n"
          ]
        }
      ]
    },
    {
      "cell_type": "code",
      "source": [
        "frutas = [\"manzana\",\"banana\",\"cereza\"]\n",
        "frutas.append(\"mango\")\n",
        "print(frutas)"
      ],
      "metadata": {
        "colab": {
          "base_uri": "https://localhost:8080/"
        },
        "id": "8HLoEuoZl3zL",
        "outputId": "f093aa3f-7857-44a9-eb3d-1ee8a4b2d970"
      },
      "execution_count": null,
      "outputs": [
        {
          "output_type": "stream",
          "name": "stdout",
          "text": [
            "['manzana', 'banana', 'cereza', 'mango']\n"
          ]
        }
      ]
    },
    {
      "cell_type": "code",
      "source": [
        "frutas.remove(\"banana\")\n",
        "print(frutas)"
      ],
      "metadata": {
        "colab": {
          "base_uri": "https://localhost:8080/"
        },
        "id": "F9fr3so-mjgW",
        "outputId": "5f51792c-f3c9-432b-9592-af582251095f"
      },
      "execution_count": null,
      "outputs": [
        {
          "output_type": "stream",
          "name": "stdout",
          "text": [
            "['manzana', 'cereza', 'mango']\n"
          ]
        }
      ]
    },
    {
      "cell_type": "code",
      "source": [
        "frutas[0]= \"fresas\"\n",
        "print(frutas)"
      ],
      "metadata": {
        "colab": {
          "base_uri": "https://localhost:8080/"
        },
        "id": "6q42dNZCmtUJ",
        "outputId": "1d98bdf5-22e0-4c29-ccb0-69e9056f50c9"
      },
      "execution_count": null,
      "outputs": [
        {
          "output_type": "stream",
          "name": "stdout",
          "text": [
            "['fresas', 'cereza', 'mango']\n"
          ]
        }
      ]
    },
    {
      "cell_type": "code",
      "source": [
        "type(frutas)"
      ],
      "metadata": {
        "colab": {
          "base_uri": "https://localhost:8080/"
        },
        "id": "Yp-_zGFynOki",
        "outputId": "8b7906e4-ef89-4db7-e19a-9c17f320c1ba"
      },
      "execution_count": null,
      "outputs": [
        {
          "output_type": "execute_result",
          "data": {
            "text/plain": [
              "list"
            ]
          },
          "metadata": {},
          "execution_count": 15
        }
      ]
    },
    {
      "cell_type": "markdown",
      "source": [
        "**TUPLA**"
      ],
      "metadata": {
        "id": "GXhK_oxoqjG9"
      }
    },
    {
      "cell_type": "code",
      "source": [
        "mi_tupla = (1,2,3,4,5)\n",
        "print(mi_tupla)\n",
        "type(mi_tupla)"
      ],
      "metadata": {
        "colab": {
          "base_uri": "https://localhost:8080/"
        },
        "id": "tei8B_tencu5",
        "outputId": "52ec6e09-111d-4a4c-fe46-3b444f354d80"
      },
      "execution_count": null,
      "outputs": [
        {
          "output_type": "stream",
          "name": "stdout",
          "text": [
            "(1, 2, 3, 4, 5)\n"
          ]
        },
        {
          "output_type": "execute_result",
          "data": {
            "text/plain": [
              "tuple"
            ]
          },
          "metadata": {},
          "execution_count": 16
        }
      ]
    },
    {
      "cell_type": "code",
      "source": [
        "mi_tupla.append(9)\n",
        "print(mi_tupla)"
      ],
      "metadata": {
        "colab": {
          "base_uri": "https://localhost:8080/",
          "height": 158
        },
        "id": "lnL6Qh7YnnFU",
        "outputId": "e9be904c-8329-4f7c-fba7-528f7fd0047e"
      },
      "execution_count": null,
      "outputs": [
        {
          "output_type": "error",
          "ename": "AttributeError",
          "evalue": "'tuple' object has no attribute 'append'",
          "traceback": [
            "\u001b[0;31m---------------------------------------------------------------------------\u001b[0m",
            "\u001b[0;31mAttributeError\u001b[0m                            Traceback (most recent call last)",
            "\u001b[0;32m/tmp/ipython-input-4263231566.py\u001b[0m in \u001b[0;36m<cell line: 0>\u001b[0;34m()\u001b[0m\n\u001b[0;32m----> 1\u001b[0;31m \u001b[0mmi_tupla\u001b[0m\u001b[0;34m.\u001b[0m\u001b[0mappend\u001b[0m\u001b[0;34m(\u001b[0m\u001b[0;36m9\u001b[0m\u001b[0;34m)\u001b[0m\u001b[0;34m\u001b[0m\u001b[0;34m\u001b[0m\u001b[0m\n\u001b[0m\u001b[1;32m      2\u001b[0m \u001b[0mprint\u001b[0m\u001b[0;34m(\u001b[0m\u001b[0mmi_tupla\u001b[0m\u001b[0;34m)\u001b[0m\u001b[0;34m\u001b[0m\u001b[0;34m\u001b[0m\u001b[0m\n",
            "\u001b[0;31mAttributeError\u001b[0m: 'tuple' object has no attribute 'append'"
          ]
        }
      ]
    },
    {
      "cell_type": "code",
      "source": [
        "mi_diccionario = {\"nombre\":\"juan\",\"edad\":25,\"ciudad\":\"bogota\"}\n",
        "print(mi_diccionario)\n",
        "type(mi_diccionario)"
      ],
      "metadata": {
        "colab": {
          "base_uri": "https://localhost:8080/"
        },
        "id": "tpy4HfmcqBW9",
        "outputId": "159ae628-e7e5-4529-f129-c32102ceb3ef"
      },
      "execution_count": null,
      "outputs": [
        {
          "output_type": "stream",
          "name": "stdout",
          "text": [
            "{'nombre': 'juan', 'edad': 25, 'ciudad': 'bogota'}\n"
          ]
        },
        {
          "output_type": "execute_result",
          "data": {
            "text/plain": [
              "dict"
            ]
          },
          "metadata": {},
          "execution_count": 19
        }
      ]
    },
    {
      "cell_type": "markdown",
      "source": [
        "**ESTRUCTURA DE CONTROL DEL FLUJO**"
      ],
      "metadata": {
        "id": "VqvXp4OjsFV3"
      }
    },
    {
      "cell_type": "code",
      "source": [
        "nota = input(\"ingrese un numero: \")\n",
        "nota = int(nota)\n",
        "if nota >= 5:\n",
        "  print(\"aprobado\")\n",
        "  print(\"felicidades\")\n",
        "else:\n",
        "  print(\"reprobado\")"
      ],
      "metadata": {
        "colab": {
          "base_uri": "https://localhost:8080/"
        },
        "id": "GPchgd8WsPUv",
        "outputId": "87b36323-0fa0-482e-b404-590eb1ed9c61"
      },
      "execution_count": null,
      "outputs": [
        {
          "output_type": "stream",
          "name": "stdout",
          "text": [
            "ingrese un numero: 3\n",
            "reprobado\n"
          ]
        }
      ]
    },
    {
      "cell_type": "code",
      "source": [
        "edad = input(\"ingrese su edad: \")\n",
        "edad = int(edad)\n",
        "if edad < 2 :\n",
        "  print(\"es infante\")\n",
        "elif   edad >= 2 and edad < 12:\n",
        "  print(\"es niño\")\n",
        "elif  edad >= 12 and edad < 18:\n",
        "  print(\"es adolescente\")\n",
        "elif edad >= 18 and edad < 65:\n",
        "  print(\"es adulto\")\n",
        "else:\n",
        "  print(\"es anciano\")"
      ],
      "metadata": {
        "colab": {
          "base_uri": "https://localhost:8080/"
        },
        "id": "XSp20gfkt-56",
        "outputId": "4de5d8dc-13e5-4650-aa98-0bbf6f9dbe10"
      },
      "execution_count": null,
      "outputs": [
        {
          "output_type": "stream",
          "name": "stdout",
          "text": [
            "ingrese su edad: 19\n",
            "es adulto\n"
          ]
        }
      ]
    },
    {
      "cell_type": "code",
      "source": [
        "# mi_diccionario[\"nombre\"].append(\"pedro\") # This line caused the error\n",
        "mi_diccionario[\"nombre\"] = \"pedro\" # Correct way to change the value\n",
        "mi_diccionario[\"edad\"]=30\n",
        "print(mi_diccionario)"
      ],
      "metadata": {
        "colab": {
          "base_uri": "https://localhost:8080/"
        },
        "id": "Xs1NE4B1qnkF",
        "outputId": "15ccb9c8-2c9c-4810-8577-86c8c9f0c7cd"
      },
      "execution_count": null,
      "outputs": [
        {
          "output_type": "stream",
          "name": "stdout",
          "text": [
            "{'nombre': 'pedro', 'edad': 30, 'ciudad': 'bogota'}\n"
          ]
        }
      ]
    },
    {
      "cell_type": "markdown",
      "source": [
        "**BUCLES**"
      ],
      "metadata": {
        "id": "oempChzexq_V"
      }
    },
    {
      "cell_type": "code",
      "source": [
        "# BUCLE FOR\n",
        "\n",
        "frutas = [\"manzana\",\"banana\",\"cereza\"]\n",
        "for fruta in frutas:\n",
        "  print(\"Me gusta comer\",fruta)"
      ],
      "metadata": {
        "colab": {
          "base_uri": "https://localhost:8080/"
        },
        "id": "DQ7pOrkJxqDp",
        "outputId": "addada4a-b04a-403f-cc96-6ab005debfd6"
      },
      "execution_count": null,
      "outputs": [
        {
          "output_type": "stream",
          "name": "stdout",
          "text": [
            "Me gusta comer manzana\n",
            "Me gusta comer banana\n",
            "Me gusta comer cereza\n"
          ]
        }
      ]
    },
    {
      "cell_type": "code",
      "source": [
        "lista = [1,2,3,4,5]\n",
        "for numero in lista:\n",
        "  print(numero)"
      ],
      "metadata": {
        "id": "55iu5-79zbqp"
      },
      "execution_count": null,
      "outputs": []
    },
    {
      "cell_type": "code",
      "source": [
        "lista = [1,2,3,4,5]\n",
        "for numero in lista:\n",
        "  print(numero*2)"
      ],
      "metadata": {
        "colab": {
          "base_uri": "https://localhost:8080/"
        },
        "id": "IUFpA9SDf_ea",
        "outputId": "604805db-3997-4f81-bff7-f26550d9e69b"
      },
      "execution_count": 1,
      "outputs": [
        {
          "output_type": "stream",
          "name": "stdout",
          "text": [
            "2\n",
            "4\n",
            "6\n",
            "8\n",
            "10\n"
          ]
        }
      ]
    },
    {
      "cell_type": "code",
      "source": [],
      "metadata": {
        "colab": {
          "base_uri": "https://localhost:8080/"
        },
        "id": "V-p3n2RqgJWu",
        "outputId": "ca6c2f8f-2361-496e-e889-e7a6f8d09eb5"
      },
      "execution_count": 2,
      "outputs": [
        {
          "output_type": "stream",
          "name": "stdout",
          "text": [
            "0\n",
            "1\n",
            "2\n",
            "3\n",
            "4\n"
          ]
        }
      ]
    },
    {
      "cell_type": "markdown",
      "source": [
        "**FUNCIONES**"
      ],
      "metadata": {
        "id": "wMaOBoOegpSe"
      }
    },
    {
      "cell_type": "code",
      "source": [
        "def saludo():\n",
        "  print(\"!hola amigo¡\")"
      ],
      "metadata": {
        "id": "hWQIYH3tgtPE"
      },
      "execution_count": 4,
      "outputs": []
    },
    {
      "cell_type": "code",
      "source": [
        "def holaConNombre(name):\n",
        "  print(\"Hello\" + name + \"!\")"
      ],
      "metadata": {
        "id": "R8VT4qMZg8aB"
      },
      "execution_count": 5,
      "outputs": []
    },
    {
      "cell_type": "code",
      "source": [
        "holaConNombre(\"Juan\")"
      ],
      "metadata": {
        "colab": {
          "base_uri": "https://localhost:8080/"
        },
        "id": "PiymebMZhQDn",
        "outputId": "17c2d4fe-50b8-41cb-f468-df6fbcdec622"
      },
      "execution_count": 6,
      "outputs": [
        {
          "output_type": "stream",
          "name": "stdout",
          "text": [
            "HelloJuan!\n"
          ]
        }
      ]
    },
    {
      "cell_type": "code",
      "source": [
        "def sumatoria (numero1, numero2):\n",
        "  resultado = numero1 + numero2\n",
        "  return resultado"
      ],
      "metadata": {
        "id": "98RUvN7QhYns"
      },
      "execution_count": 14,
      "outputs": []
    },
    {
      "cell_type": "code",
      "source": [
        "sumatoria(2,3)"
      ],
      "metadata": {
        "colab": {
          "base_uri": "https://localhost:8080/"
        },
        "id": "KgSc-V7Bhpir",
        "outputId": "0bdc98a6-404b-474e-d40a-93458eb1d131"
      },
      "execution_count": 15,
      "outputs": [
        {
          "output_type": "execute_result",
          "data": {
            "text/plain": [
              "5"
            ]
          },
          "metadata": {},
          "execution_count": 15
        }
      ]
    },
    {
      "cell_type": "code",
      "source": [
        "def areacirculo (radio):\n",
        "  resultado_area = 3.1416 * radio ** 2\n",
        "  return resultado_area"
      ],
      "metadata": {
        "id": "2gOOcc_miGdb"
      },
      "execution_count": 24,
      "outputs": []
    },
    {
      "cell_type": "code",
      "source": [
        "areacirculo(5)"
      ],
      "metadata": {
        "colab": {
          "base_uri": "https://localhost:8080/"
        },
        "id": "g7Nh0_iMirZZ",
        "outputId": "2dcdba7f-81f4-4952-ac1d-a4f1ea79e63b"
      },
      "execution_count": 25,
      "outputs": [
        {
          "output_type": "execute_result",
          "data": {
            "text/plain": [
              "78.53999999999999"
            ]
          },
          "metadata": {},
          "execution_count": 25
        }
      ]
    },
    {
      "cell_type": "code",
      "source": [
        "def celcius_a_fahrenheit(celsius):\n",
        "    fahrenheit = (celsius * 9/5) + 32\n",
        "    return fahrenheit"
      ],
      "metadata": {
        "id": "z9RRAV2EjVDS"
      },
      "execution_count": 26,
      "outputs": []
    },
    {
      "cell_type": "code",
      "source": [
        "celcius_a_fahrenheit(25)"
      ],
      "metadata": {
        "colab": {
          "base_uri": "https://localhost:8080/"
        },
        "id": "FOlj6PWUjkjv",
        "outputId": "ea3b07a2-ad74-419b-d425-0cc7d032a606"
      },
      "execution_count": 28,
      "outputs": [
        {
          "output_type": "execute_result",
          "data": {
            "text/plain": [
              "77.0"
            ]
          },
          "metadata": {},
          "execution_count": 28
        }
      ]
    },
    {
      "cell_type": "markdown",
      "source": [
        "**LIBRERIAS**"
      ],
      "metadata": {
        "id": "DFupjad0kTkP"
      }
    },
    {
      "cell_type": "code",
      "source": [
        "import  pandas as pd"
      ],
      "metadata": {
        "id": "9I5ITUaik0bd"
      },
      "execution_count": 29,
      "outputs": []
    },
    {
      "cell_type": "code",
      "source": [
        "pip install pandas"
      ],
      "metadata": {
        "colab": {
          "base_uri": "https://localhost:8080/"
        },
        "id": "4dZ4MP7ClDob",
        "outputId": "92cee06b-cd7c-4204-abf8-45b9d294e68d"
      },
      "execution_count": 30,
      "outputs": [
        {
          "output_type": "stream",
          "name": "stdout",
          "text": [
            "Requirement already satisfied: pandas in /usr/local/lib/python3.12/dist-packages (2.2.2)\n",
            "Requirement already satisfied: numpy>=1.26.0 in /usr/local/lib/python3.12/dist-packages (from pandas) (2.0.2)\n",
            "Requirement already satisfied: python-dateutil>=2.8.2 in /usr/local/lib/python3.12/dist-packages (from pandas) (2.9.0.post0)\n",
            "Requirement already satisfied: pytz>=2020.1 in /usr/local/lib/python3.12/dist-packages (from pandas) (2025.2)\n",
            "Requirement already satisfied: tzdata>=2022.7 in /usr/local/lib/python3.12/dist-packages (from pandas) (2025.2)\n",
            "Requirement already satisfied: six>=1.5 in /usr/local/lib/python3.12/dist-packages (from python-dateutil>=2.8.2->pandas) (1.17.0)\n"
          ]
        }
      ]
    },
    {
      "cell_type": "code",
      "source": [
        "import pandas as pd\n",
        "\n",
        "# Datos de ejemplo para una tienda minorista\n",
        "data = {\n",
        "    'Producto': ['Camiseta', 'Pantalón', 'Zapatos', 'Camiseta', 'Zapatos', 'Pantalón'],\n",
        "    'Cantidad_Vendida': [10, 5, 3, 8, 6, 4],\n",
        "    'Precio_Unitario': [20.00, 30.00, 50.00, 20.00, 50.00, 30.00],\n",
        "    'Fecha_Venta': ['2023-01-15', '2023-01-15', '2023-01-16', '2023-01-16', '2023-01-17', '2023-01-17']\n",
        "}\n",
        "\n",
        "# Crear el DataFrame\n",
        "df_ventas = pd.DataFrame(data)\n",
        "\n",
        "# Calcular el total de ventas por transacción\n",
        "df_ventas['Total_Venta'] = df_ventas['Cantidad_Vendida'] * df_ventas['Precio_Unitario']\n",
        "\n",
        "# Mostrar el DataFrame\n",
        "print(df_ventas)"
      ],
      "metadata": {
        "colab": {
          "base_uri": "https://localhost:8080/"
        },
        "id": "EoiwG2lxlajh",
        "outputId": "69b605b1-3011-45a9-e297-7cc008275fd4"
      },
      "execution_count": 32,
      "outputs": [
        {
          "output_type": "stream",
          "name": "stdout",
          "text": [
            "   Producto  Cantidad_Vendida  Precio_Unitario Fecha_Venta  Total_Venta\n",
            "0  Camiseta                10             20.0  2023-01-15        200.0\n",
            "1  Pantalón                 5             30.0  2023-01-15        150.0\n",
            "2   Zapatos                 3             50.0  2023-01-16        150.0\n",
            "3  Camiseta                 8             20.0  2023-01-16        160.0\n",
            "4   Zapatos                 6             50.0  2023-01-17        300.0\n",
            "5  Pantalón                 4             30.0  2023-01-17        120.0\n"
          ]
        }
      ]
    },
    {
      "cell_type": "code",
      "source": [],
      "metadata": {
        "id": "MXf_oFnSlyVo"
      },
      "execution_count": null,
      "outputs": []
    },
    {
      "cell_type": "code",
      "source": [
        "import matplotlib.pyplot as plt\n",
        "import pandas as pd\n",
        "import numpy as np\n",
        "\n",
        "# Generate 1000 random data points for ventas and publicidad\n",
        "np.random.seed(42) # for reproducibility\n",
        "num_data_points = 1000\n",
        "data = {'publicidad': np.random.rand(num_data_points) * 100, # Random values between 0 and 100\n",
        "        'ventas': np.random.rand(num_data_points) * 500 + data['publicidad'] * 2} # Random values influenced by publicidad\n",
        "\n",
        "df = pd.DataFrame(data)\n",
        "\n",
        "# Create the scatter plot\n",
        "plt.figure(figsize=(10, 8))\n",
        "plt.scatter(df['publicidad'], df['ventas'], alpha=0.5) # Added alpha for better visualization with many points\n",
        "plt.title('Gráfica de dispersión entre Ventas y Publicidad (1000 datos)')\n",
        "plt.xlabel('Publicidad')\n",
        "plt.ylabel('Ventas')\n",
        "plt.grid(True)\n",
        "plt.show()"
      ],
      "metadata": {
        "colab": {
          "base_uri": "https://localhost:8080/",
          "height": 719
        },
        "id": "YAZxZQaysfHA",
        "outputId": "afe7de7f-4b92-4703-f22c-1effe1748038"
      },
      "execution_count": null,
      "outputs": [
        {
          "output_type": "display_data",
          "data": {
            "text/plain": [
              "<Figure size 1000x800 with 1 Axes>"
            ],
            "image/png": "[encoded data removed]"
          },
          "metadata": {}
        }
      ]
    }
  ]
}